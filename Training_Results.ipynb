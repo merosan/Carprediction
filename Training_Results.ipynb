{
 "cells": [
  {
   "attachments": {},
   "cell_type": "markdown",
   "metadata": {},
   "source": [
    "# Results of testing\n"
   ]
  },
  {
   "attachments": {},
   "cell_type": "markdown",
   "metadata": {},
   "source": [
    "### Linear Regression"
   ]
  },
  {
   "attachments": {},
   "cell_type": "markdown",
   "metadata": {},
   "source": [
    "Neg RMSE = **-6562**\n",
    "__________________________________\n",
    "With Hour and Weekday\n",
    "\n",
    "Neg RMSE = **-6144.231138113802**\n"
   ]
  },
  {
   "attachments": {},
   "cell_type": "markdown",
   "metadata": {},
   "source": [
    "### Polynominal\n"
   ]
  },
  {
   "attachments": {},
   "cell_type": "markdown",
   "metadata": {},
   "source": [
    "Neg RMSE OHNE STUNDE= **-6530.672521321043**\n",
    "\n",
    "**Grid Search** \n",
    "\n",
    "**BEST RESULT**\n",
    "'polynomial_features__degree': [2, 4, 6, 8], 'polynomial_features__include_bias': [True, False]\n",
    "= **-6504.436370906263**\n",
    "\n",
    "'polynomial_features__degree': [2, 4, 6, 8, 10], 'polynomial_features__include_bias': [True, False]\n",
    "= **-6504.436370906263**\n",
    "\n",
    "'polynomial_features__degree': [2, 4, 6,], 'polynomial_features__include_bias': [True, False],\n",
    "= **-6504.9483597686885**\n",
    "\n",
    "'polynomial_features__degree': [3, 5, 7, 9], 'polynomial_features__include_bias': [True, False],\n",
    "= **-6508.739369165132**\n",
    "\n",
    "\n",
    "__________________________________\n",
    "With Hour and Weekday\n",
    "\n",
    "Neg RMSE = **-4241.410643517218**\n",
    "\n",
    "**Grid Search**\n",
    "\n",
    "'polynomial_features__degree': [2, 3, 4], 'polynomial_features__include_bias': [True, False] = **-3376.6906731913173**\n",
    "\n",
    "\n"
   ]
  },
  {
   "attachments": {},
   "cell_type": "markdown",
   "metadata": {},
   "source": [
    "### Random Forest"
   ]
  },
  {
   "attachments": {},
   "cell_type": "markdown",
   "metadata": {},
   "source": [
    "Neg RMSE OHNE STUNDE = **-6322.210497333469**\n",
    "\n",
    "**Grid Search**\n",
    "\n",
    "'max_depth': [90, 100, 110], 'max_features': [6, 9] = **-6322.210497333469**\n",
    "\n",
    "'max_depth': [5, 10, 15, 20], 'max_features': [3, 5, 7, 9] @20/7 = **-6283.690885999169**\n",
    "\n",
    "'max_depth': [5, 10, 15, 20, 25] 'max_features': [7, 9] @25/7 = **-6283.418383613094**\n",
    "\n",
    "'max_depth': [25, 30, 35], 'max_features': [7, 9] @25/7 = **-6283.418383613094**\n",
    "\n",
    "__________________________________\n",
    "With Hour and Weekday\n",
    "\n",
    "Neg RMSE = **-1714.0971436104587**\n",
    "\n",
    "**Grid Search**\n",
    "\n",
    "param_grid = {'max_depth': [10, 15, 20 ], 'max_features': [5, 7, 9] @15/5 = **-1649.6003800537885**\n",
    "}\n"
   ]
  },
  {
   "attachments": {},
   "cell_type": "markdown",
   "metadata": {},
   "source": [
    "### Decision Tree\n"
   ]
  },
  {
   "attachments": {},
   "cell_type": "markdown",
   "metadata": {},
   "source": [
    "Nec RMSE = **-8636.89665077206**\n",
    "\n",
    "**Grid Search** \n",
    "\n",
    "'max_depth': [90, 100, 110], 'max_features': [6, 9] = **-8636.89665077206**\n",
    "\n"
   ]
  },
  {
   "attachments": {},
   "cell_type": "markdown",
   "metadata": {},
   "source": [
    "### Gradient Boosting"
   ]
  },
  {
   "attachments": {},
   "cell_type": "markdown",
   "metadata": {},
   "source": [
    "Neg RMSE OHNE STUNDE = **-6503.105105659352**\n",
    "\n",
    "**Grid Search** \n",
    "\n",
    "'max_depth': [50, 100, 110], 'max_features': [6, 9]  = **-8459.14530832123**\n",
    "\n",
    "'max_depth': [5, 10, 15, 20], 'max_features': [3, 5, 7, 9] @15/7= **-5981.267781836131**\n",
    "\n",
    "'max_depth': [ 15, 20, 25, 30], 'max_features': [ 7, 9] @15/7 = **-6011.649371457941**\n",
    "\n",
    "__________________________________\n",
    "With Hour and Weekday\n",
    "\n",
    "Neg RMSE = **-2245.2797125647908**\n",
    "\n",
    "param_grid = {\n",
    "    'max_depth': [10, 15, 20], 'max_features': [5, 7, 9] @15/5= }**-1491.0547121729037**\n",
    "\n",
    "__________________________________\n",
    "With hour, weekday, day, month and year\n",
    "\n",
    "\n",
    "Neg RMSE = **-2190.854121330483**\n",
    "\n",
    "param_grid = {'max_depth': [10, 15, 20],'max_features': [5, 7, 9]} = **-717.7529302955235**"
   ]
  }
 ],
 "metadata": {
  "language_info": {
   "name": "python"
  },
  "orig_nbformat": 4
 },
 "nbformat": 4,
 "nbformat_minor": 2
}
