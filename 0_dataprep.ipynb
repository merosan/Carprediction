{
 "cells": [
  {
   "attachments": {},
   "cell_type": "markdown",
   "metadata": {},
   "source": [
    "# KI Project\n",
    "Determining how many cars move in and out of Zurich in relation to weather data\n"
   ]
  },
  {
   "cell_type": "code",
   "execution_count": 2,
   "metadata": {},
   "outputs": [],
   "source": [
    "# Libraries\n",
    "import os\n",
    "import re\n",
    "import fnmatch\n",
    "import datetime\n",
    "import numpy as np\n",
    "import pandas as pd\n",
    "import glob\n",
    "import holidays\n",
    "import platform\n",
    "import socket\n",
    "from platform import python_version\n",
    "from datetime import datetime\n",
    "\n",
    "\n",
    "# Ignore warnings\n",
    "import warnings\n",
    "warnings.filterwarnings(\"ignore\")"
   ]
  },
  {
   "attachments": {},
   "cell_type": "markdown",
   "metadata": {},
   "source": [
    "# Cars Data\n",
    "Data Source: https://data.stadt-zuerich.ch/dataset/sid_dav_verkehrszaehlung_miv_od2031\n",
    "\n",
    "Download files from 2012 to 2021"
   ]
  },
  {
   "attachments": {},
   "cell_type": "markdown",
   "metadata": {
    "tags": [
     "exclude"
    ]
   },
   "source": [
    "### Testing Cleaning functions Cars"
   ]
  },
  {
   "cell_type": "code",
   "execution_count": null,
   "metadata": {},
   "outputs": [],
   "source": [
    "'''#Test\n",
    "fpvk19 = 'Data\\\\cars_Zurich\\\\vk_2019.csv'\n",
    "df = pd.read_csv(fpvk19, sep=',', encoding='utf-8')\n",
    "df.shape'''"
   ]
  },
  {
   "cell_type": "code",
   "execution_count": null,
   "metadata": {},
   "outputs": [],
   "source": [
    "'''# Count missing values\n",
    "print('Count missing values per variable')\n",
    "print(pd.isna(df).sum(), '\\n')\n",
    "\n",
    "# Identify rows with missing values\n",
    "print('Identify rows with missing values')\n",
    "print(df.loc[df.isna().any(axis=1)][['AnzFahrzeuge']], '\\n')\n",
    "\n",
    "# Drop rows where at least one element is missing.\n",
    "df2 = df.dropna()\n",
    "df2.head()'''"
   ]
  },
  {
   "cell_type": "code",
   "execution_count": null,
   "metadata": {},
   "outputs": [],
   "source": [
    "# Count missing values\n",
    "#print('Count missing values per variable')\n",
    "#print(pd.isna(df2).sum(), '\\n')"
   ]
  },
  {
   "cell_type": "code",
   "execution_count": null,
   "metadata": {},
   "outputs": [],
   "source": [
    "#cols_to_remove = ['MSID', 'MSName', 'ZSID','Achse','HNr','Hoehe', 'EKoord', 'NKoord', 'AnzDetektoren', 'D1ID', 'D2ID','D3ID','D4ID','LieferDat','Knummer']\n",
    "#df = df.drop(columns=cols_to_remove)"
   ]
  },
  {
   "cell_type": "code",
   "execution_count": null,
   "metadata": {},
   "outputs": [],
   "source": [
    "#df.head()"
   ]
  },
  {
   "cell_type": "code",
   "execution_count": null,
   "metadata": {},
   "outputs": [],
   "source": [
    "#unique_values = np.unique(df['AnzFahrzeugeStatus'])\n",
    "#print(unique_values)"
   ]
  },
  {
   "cell_type": "code",
   "execution_count": null,
   "metadata": {},
   "outputs": [],
   "source": [
    "#column_name1 = 'Richtung'\n",
    "#specific_values1= ['auswärts', 'einwärts']\n",
    "#column_name2 = 'AnzFahrzeugeStatus'\n",
    "#specific_values2= ['Gemessen', 'Imputiert']\n",
    "\n",
    "# Filter the DataFrame to show only rows with the specific values in the specified column\n",
    "#df = df[df[column_name1].isin(specific_values1) & df[column_name2].isin(specific_values2)]\n",
    "\n",
    "#df = df[df['AnzFahrzeuge']!=0] \n",
    "\n",
    "#df.shape"
   ]
  },
  {
   "cell_type": "code",
   "execution_count": null,
   "metadata": {},
   "outputs": [],
   "source": [
    "#df.to_csv('test.csv', index=False)"
   ]
  },
  {
   "cell_type": "code",
   "execution_count": null,
   "metadata": {},
   "outputs": [],
   "source": [
    "#filtered_df.head()\n",
    "\n",
    "#filtered_df.to_csv('filtered_cars.csv', index=False)"
   ]
  },
  {
   "cell_type": "code",
   "execution_count": null,
   "metadata": {},
   "outputs": [],
   "source": [
    "# Group the DataFrame by 'Richtung' and 'MessungDatZeit' columns and calculate the sum of 'AnzFahrzeuge'\n",
    "#sum_df = df.groupby(['Richtung', 'MessungDatZeit'])['AnzFahrzeuge'].sum().reset_index()\n",
    "\n",
    "#sum_df.shape\n",
    "\n",
    "#sum_df.to_csv('sum.csv', index=False)"
   ]
  },
  {
   "cell_type": "code",
   "execution_count": null,
   "metadata": {},
   "outputs": [],
   "source": [
    "#summary_df.head()"
   ]
  },
  {
   "attachments": {},
   "cell_type": "markdown",
   "metadata": {},
   "source": [
    "### Create cleaning function for cars data"
   ]
  },
  {
   "cell_type": "code",
   "execution_count": null,
   "metadata": {},
   "outputs": [],
   "source": [
    "# define a cleaning function\n",
    "\n",
    "def clean_data_vk(df):\n",
    "    cols_to_remove = ['MSID', 'MSName', 'ZSID','Achse','HNr','Hoehe', 'EKoord', 'NKoord', 'AnzDetektoren', 'D1ID', 'D2ID','D3ID','D4ID','LieferDat','Knummer']\n",
    "    df = df.drop(columns=cols_to_remove)\n",
    "\n",
    "    # Only use Richtungen 'auswärts' and 'einwärts'\n",
    "    column_name1 = 'Richtung'\n",
    "    specific_values1= ['auswärts', 'einwärts']\n",
    "\n",
    "    # Only Use Status 'Gemessen' and 'Imputiert'\n",
    "    column_name2 = 'AnzFahrzeugeStatus'\n",
    "    specific_values2= ['Gemessen', 'Imputiert']\n",
    "\n",
    "    #apply filter \n",
    "    df = df[df[column_name1].isin(specific_values1) & df[column_name2].isin(specific_values2)]\n",
    "\n",
    "    # COMMENT ON THIS -----------------------------------------  \n",
    "    # remove rows where no data has been collected\n",
    "    # df = df[df['AnzFahrzeuge']!=0] \n",
    "\n",
    "    # Group the DataFrame by 'Richtung' and 'MessungDatZeit' columns and calculate the sum of 'AnzFahrzeuge'\n",
    "    df = df.groupby(['Richtung', 'MessungDatZeit'])['AnzFahrzeuge'].sum().reset_index()\n",
    "\n",
    "    df.rename(columns={'MessungDatZeit': 'DateTime'}, inplace=True)\n",
    "\n",
    "    # Change the Value of 'Richtung' to Binary 1 = einwärts, 0 = auswärts\n",
    "    df['Richtung'] = df['Richtung'].map(lambda x: 0 if x == 'auswärts' else 1)\n",
    "\n",
    "    return df\n",
    "    "
   ]
  },
  {
   "attachments": {},
   "cell_type": "markdown",
   "metadata": {},
   "source": [
    "### Execute cleaning on all car data files "
   ]
  },
  {
   "cell_type": "code",
   "execution_count": null,
   "metadata": {},
   "outputs": [],
   "source": [
    "# Specify the folder path where CSV files are located\n",
    "fpvk = 'Data\\\\cars_Zurich\\\\'\n",
    "\n",
    "#Choosing the target directory for cleaned files \n",
    "target_directory = 'Data\\\\cars_Zurich\\\\cleaned\\\\'\n",
    "\n",
    "# Create the target directory if it does not exist\n",
    "os.makedirs(target_directory, exist_ok=True)\n",
    "\n",
    "# Get a list of all CSV files in the folder\n",
    "csv_files = glob.glob(fpvk + '*.csv')\n",
    "\n",
    "# Iterate over each CSV file\n",
    "for file in csv_files:\n",
    "\n",
    "    # Read the CSV file into a DataFrame\n",
    "    df = pd.read_csv(file)\n",
    "    \n",
    "    # Apply data cleaning function\n",
    "    cleaned_df = clean_data_vk(df)\n",
    "    \n",
    "    # Save cleaned data to a new CSV file\n",
    "    file_name = os.path.basename(file)  # Get the file name\n",
    "    new_file_path = os.path.join(target_directory, file_name.replace('.csv', '_cleaned.csv'))\n",
    "    cleaned_df.to_csv(new_file_path, index=False)"
   ]
  },
  {
   "attachments": {},
   "cell_type": "markdown",
   "metadata": {},
   "source": [
    "### Merge cleaned cars data"
   ]
  },
  {
   "cell_type": "code",
   "execution_count": null,
   "metadata": {},
   "outputs": [],
   "source": [
    "# Define file path\n",
    "fpvk = 'Data\\\\cars_Zurich\\\\cleaned\\\\'\n",
    "\n",
    "# Get a list of all CSV files in the folder\n",
    "csv_files = glob.glob(fpvk + '*.csv')\n",
    "\n",
    "# Create an empty list to store the individual DataFrames\n",
    "dataframes = []\n",
    "\n",
    "# Iterate over each CSV file\n",
    "for file in csv_files:\n",
    "    # Read the CSV file into a DataFrame\n",
    "    df = pd.read_csv(file)\n",
    "    \n",
    "    # Append the DataFrame to the list\n",
    "    dataframes.append(df)\n",
    "\n",
    "# Concatenate all DataFrames into a single DataFrame\n",
    "merged_df = pd.concat(dataframes, ignore_index=True)\n",
    "\n",
    "# Save the merged DataFrame as a CSV file\n",
    "merged_df.to_csv('merged_cars_data.csv', index=False)"
   ]
  },
  {
   "cell_type": "code",
   "execution_count": null,
   "metadata": {},
   "outputs": [],
   "source": [
    "merged_df.shape"
   ]
  },
  {
   "cell_type": "code",
   "execution_count": null,
   "metadata": {},
   "outputs": [],
   "source": [
    "merged_df.head()"
   ]
  },
  {
   "cell_type": "code",
   "execution_count": null,
   "metadata": {},
   "outputs": [],
   "source": [
    "print(merged_df['DateTime'].dtype)\n",
    "print(merged_df['Richtung'].dtype)\n",
    "print(merged_df['AnzFahrzeuge'].dtype)\n"
   ]
  },
  {
   "attachments": {},
   "cell_type": "markdown",
   "metadata": {},
   "source": [
    "# Weather data\n",
    "\n",
    "Data Source: https://data.stadt-zuerich.ch/dataset/ugz_meteodaten_stundenmittelwerte\n",
    "\n",
    "Download files from 2012 to 2021"
   ]
  },
  {
   "attachments": {},
   "cell_type": "markdown",
   "metadata": {},
   "source": [
    "### Cleaning Function for weather data"
   ]
  },
  {
   "cell_type": "code",
   "execution_count": null,
   "metadata": {},
   "outputs": [],
   "source": [
    "# define a cleaning function\n",
    "def clean_data_w(df):\n",
    "\n",
    "    #remove unused cols\n",
    "    cols_to_remove_w = ['Intervall','Parameter']\n",
    "    df = df.drop(columns=cols_to_remove_w)\n",
    "\n",
    "    # Merge rows into cols\n",
    "    # Create a new column as a combination of 'col1' and 'col2' values\n",
    "    df['col1_col2_col5'] = df['Datum'] + '_' + df['Standort'] + '_' + df['Status']\n",
    "\n",
    "    # Use pivot_table to merge multiple rows into one row and create new columns\n",
    "    df_w = pd.pivot_table(df, index=['Datum', 'Standort'], columns='Einheit', values='Wert', aggfunc=lambda x: x.iloc[0]).reset_index()\n",
    "\n",
    "    #reset ID column to none\n",
    "    df_w.columns.name = None\n",
    "\n",
    "    #remove unused columns\n",
    "    cols_to_remove_w = ['W/m2','m/s','°']\n",
    "    df_w = df_w.drop(columns=cols_to_remove_w)\n",
    "\n",
    "    #rename Columns\n",
    "    df_w.rename(columns={'min': 'Niederschlag'}, inplace=True)\n",
    "    df_w.rename(columns={'%Hr': 'Luftfeuchtigkeit (%Hr)'}, inplace=True)\n",
    "    df_w.rename(columns={'hPa': 'Luftdruck (hPa)'}, inplace=True)\n",
    "    df_w.rename(columns={'°C': 'Temperatur (°C)'}, inplace=True)\n",
    "    df_w.rename(columns={'Datum': 'DateTime'}, inplace=True)\n",
    "\n",
    "    #average out the values \n",
    "    df_w = df_w.groupby('DateTime').mean().round(2)\n",
    "\n",
    "    #change niederschlag from float to binary 1 = Rain, 0 = No rain\n",
    "    df_w['Niederschlag'] = df_w['Niederschlag'].map(lambda x: 0 if x == 0 else 1)\n",
    "\n",
    "    df_w = df_w.reset_index()\n",
    "\n",
    "    return df_w"
   ]
  },
  {
   "attachments": {},
   "cell_type": "markdown",
   "metadata": {},
   "source": [
    "### Executing Cleaning for all weather data files"
   ]
  },
  {
   "cell_type": "code",
   "execution_count": null,
   "metadata": {},
   "outputs": [],
   "source": [
    "# Specify the folder path where CSV files are located\n",
    "fpw = 'Data\\\\weather_Zurich\\\\'\n",
    "\n",
    "#Choosing the target directory for cleaned files \n",
    "target_directory = 'Data\\\\weather_Zurich\\\\cleaned\\\\'\n",
    "\n",
    "# Create the target directory if it does not exist\n",
    "os.makedirs(target_directory, exist_ok=True)\n",
    "\n",
    "# Get a list of all CSV files in the folder\n",
    "csv_files = glob.glob(fpw + '*.csv')\n",
    "\n",
    "# Iterate over each CSV file\n",
    "for file in csv_files:\n",
    "\n",
    "    # Read the CSV file into a DataFrame\n",
    "    df_w = pd.read_csv(file)\n",
    "    \n",
    "    # Apply data cleaning function\n",
    "    cleaned_df_w = clean_data_w(df_w)\n",
    "    \n",
    "    # Save cleaned data to a new CSV file\n",
    "    file_name = os.path.basename(file)  # Get the file name\n",
    "    new_file_path = os.path.join(target_directory, file_name.replace('.csv', '_cleaned.csv'))\n",
    "    cleaned_df_w.to_csv(new_file_path, index=False)"
   ]
  },
  {
   "attachments": {},
   "cell_type": "markdown",
   "metadata": {},
   "source": [
    "### Merging all cleaned weather data files"
   ]
  },
  {
   "cell_type": "code",
   "execution_count": null,
   "metadata": {},
   "outputs": [],
   "source": [
    "#Specify folder of cleaned data\n",
    "cfpw = 'Data\\\\weather_Zurich\\\\cleaned\\\\'\n",
    "\n",
    "# Get a list of all CSV files in the folder\n",
    "csv_files_c = glob.glob(cfpw + '*.csv')\n",
    "\n",
    "# Create an empty list to store the individual DataFrames\n",
    "dataframes = []\n",
    "\n",
    "# Iterate over each CSV file\n",
    "for file in csv_files_c:\n",
    "    # Read the CSV file into a DataFrame\n",
    "    df_w = pd.read_csv(file)\n",
    "    \n",
    "    # Append the DataFrame to the list\n",
    "    dataframes.append(df_w)\n",
    "\n",
    "# Concatenate all DataFrames into a single DataFrame\n",
    "merged_df_w = pd.concat(dataframes, ignore_index=True, sort=False)\n",
    "\n",
    "# Save the merged DataFrame as a CSV file\n",
    "merged_df_w.to_csv('merged_weather_data.csv', index=False)"
   ]
  },
  {
   "cell_type": "code",
   "execution_count": null,
   "metadata": {},
   "outputs": [],
   "source": [
    "merged_df_w.shape"
   ]
  },
  {
   "cell_type": "code",
   "execution_count": null,
   "metadata": {},
   "outputs": [],
   "source": [
    "merged_df_w.head()"
   ]
  },
  {
   "cell_type": "code",
   "execution_count": null,
   "metadata": {},
   "outputs": [],
   "source": [
    "print(merged_df_w['DateTime'].dtype)\n",
    "print(merged_df_w['Luftfeuchtigkeit (%Hr)'].dtype)\n",
    "print(merged_df_w['Luftdruck (hPa)'].dtype)\n",
    "print(merged_df_w['Niederschlag'].dtype)\n",
    "print(merged_df_w['Temperatur (°C)'].dtype)\n"
   ]
  },
  {
   "attachments": {},
   "cell_type": "markdown",
   "metadata": {},
   "source": [
    "###  Testing Weather Data"
   ]
  },
  {
   "cell_type": "code",
   "execution_count": null,
   "metadata": {},
   "outputs": [],
   "source": [
    "\"\"\"#Test\n",
    "fpw21 = 'Data\\\\weather_Zurich\\\\w_2021.csv'\n",
    "df = pd.read_csv(fpw21, sep=',', encoding='utf-8')\n",
    "df.shape\"\"\""
   ]
  },
  {
   "cell_type": "code",
   "execution_count": null,
   "metadata": {},
   "outputs": [],
   "source": [
    "\"\"\"\"#remove unused cols\n",
    "cols_to_remove_w = ['Intervall','Parameter']\n",
    "df = df.drop(columns=cols_to_remove_w)\n",
    "\n",
    "# Merge rows into cols\n",
    "# Create a new column as a combination of 'col1' and 'col2' values\n",
    "df['col1_col2_col5'] = df['Datum'] + '_' + df['Standort'] + '_' + df['Status']\n",
    "\n",
    "# Use pivot_table to merge multiple rows into one row and create new columns\n",
    "df = pd.pivot_table(df, index=['Datum', 'Standort'], columns='Einheit', values='Wert', aggfunc=lambda x: x.iloc[0]).reset_index()\n",
    "\n",
    "#reset ID column to none\n",
    "df.columns.name = None\n",
    "\n",
    "#remove unused columns\n",
    "cols_to_remove_w = ['W/m2','m/s','°','Standort']\n",
    "df = df.drop(columns=cols_to_remove_w)\n",
    "\n",
    "#rename Columns\n",
    "df.rename(columns={'min': 'Niederschlag'}, inplace=True)\n",
    "df.rename(columns={'%Hr': 'Luftfeuchtigkeit (%Hr)'}, inplace=True)\n",
    "df.rename(columns={'hPa': 'Luftdruck (hPa)'}, inplace=True)\n",
    "df.rename(columns={'°C': 'Temperatur (°C)'}, inplace=True)\n",
    "df.rename(columns={'Datum': 'DateTime'}, inplace=True)\n",
    "\n",
    "#average out the values \n",
    "df = df.groupby('DateTime')['Niederschlag', 'Luftfeuchtigkeit (%Hr)', 'Luftdruck (hPa)', 'Temperatur (°C)'].mean().round(2)\n",
    "\n",
    "#change niederschlag from float to boolean\n",
    "df['Niederschlag'] = df['Niederschlag'].map(lambda x: False if x == 0 else True)\n",
    "\"\"\"\n",
    "\n"
   ]
  },
  {
   "cell_type": "code",
   "execution_count": null,
   "metadata": {},
   "outputs": [],
   "source": [
    "\"\"\"df = df.reset_index()\n",
    "df.head()\"\"\""
   ]
  },
  {
   "attachments": {},
   "cell_type": "markdown",
   "metadata": {},
   "source": [
    "# Merging two datasets and Feature Engineering"
   ]
  },
  {
   "cell_type": "code",
   "execution_count": null,
   "metadata": {},
   "outputs": [],
   "source": [
    "# Read the first file into a DataFrame\n",
    "df1 = pd.read_csv('merged_cars_data.csv')\n",
    "\n",
    "# Read the second file into a DataFrame\n",
    "df2 = pd.read_csv('merged_weather_data.csv')\n",
    "\n",
    "# Convert the date and time columns in df1 to a consistent format\n",
    "df1['DateTime'] = pd.to_datetime(df1['DateTime'], format='%Y-%m-%dT%H:%M:%S')\n",
    "\n",
    "# Convert the date and time columns in df2 to a consistent format\n",
    "df2['DateTime'] = pd.to_datetime(df2['DateTime'], format='%Y-%m-%dT%H:%M%z')\n"
   ]
  },
  {
   "cell_type": "code",
   "execution_count": null,
   "metadata": {},
   "outputs": [],
   "source": [
    "df1.head()"
   ]
  },
  {
   "cell_type": "code",
   "execution_count": null,
   "metadata": {},
   "outputs": [],
   "source": [
    "df2.head()"
   ]
  },
  {
   "cell_type": "code",
   "execution_count": null,
   "metadata": {},
   "outputs": [],
   "source": [
    "#Change dtype of weather data DateTime\n",
    "df2['DateTime'] = df2['DateTime'].dt.tz_localize(None)\n",
    "\n",
    "#douple check correct dtype \n",
    "print(df2['DateTime'].dtype)\n",
    "print(df1['DateTime'].dtype)"
   ]
  },
  {
   "cell_type": "code",
   "execution_count": null,
   "metadata": {},
   "outputs": [],
   "source": [
    "# Merge the two DataFrames based on the common columns\n",
    "merged_df = pd.merge(df1, df2, on='DateTime')\n",
    "\n",
    "merged_df.head()"
   ]
  },
  {
   "cell_type": "code",
   "execution_count": null,
   "metadata": {},
   "outputs": [],
   "source": [
    "# Create a new column 'Time' containing the time component\n",
    "merged_df['Time'] = merged_df['DateTime'].dt.time\n",
    "merged_df['Time'] = pd.to_datetime(merged_df['Time'], format='%H:%M:%S').dt.time\n",
    "\n",
    "# Create new column 'Date' containing the Date component\n",
    "merged_df['Date'] = merged_df['DateTime'].dt.date\n",
    "merged_df['Date'] = pd.to_datetime(merged_df['Date'])\n",
    "\n",
    "# Drop the Column DateTime\n",
    "merged_df = merged_df.drop(columns='DateTime')"
   ]
  },
  {
   "cell_type": "code",
   "execution_count": null,
   "metadata": {},
   "outputs": [],
   "source": [
    "# Create a new Column 'holiday' to check if the day was a public swiss holiday\n",
    "swiss_holidays = holidays.CountryHoliday('CH')\n",
    "merged_df['holiday'] = merged_df['Date'].apply(lambda x: 1 if x.date() in swiss_holidays else 0)\n",
    "\n",
    "merged_df.head()"
   ]
  },
  {
   "cell_type": "code",
   "execution_count": null,
   "metadata": {},
   "outputs": [],
   "source": [
    "print(merged_df.dtypes)"
   ]
  },
  {
   "cell_type": "code",
   "execution_count": null,
   "metadata": {},
   "outputs": [],
   "source": [
    "# Count missing values\n",
    "print('Count missing values per variable')\n",
    "print(pd.isna(merged_df).sum(), '\\n')\n",
    "\n",
    "# Identify rows with missing values\n",
    "print('Identify rows with missing values')\n",
    "print(merged_df.loc[merged_df.isna().any(axis=1)][['Richtung', 'Date', 'Time', 'AnzFahrzeuge', 'Luftfeuchtigkeit (%Hr)', 'Luftdruck (hPa)', 'Niederschlag', 'Temperatur (°C)']], '\\n')\n"
   ]
  },
  {
   "cell_type": "code",
   "execution_count": null,
   "metadata": {},
   "outputs": [],
   "source": [
    "#Remove the rows with missing values \n",
    "merged_df = merged_df.dropna()"
   ]
  },
  {
   "cell_type": "code",
   "execution_count": null,
   "metadata": {},
   "outputs": [],
   "source": [
    "# Save the merged DataFrame to a new CSV file\n",
    "merged_df.to_csv('merged_data.csv', index=False)"
   ]
  },
  {
   "attachments": {},
   "cell_type": "markdown",
   "metadata": {},
   "source": [
    "# Feature Creation"
   ]
  },
  {
   "cell_type": "code",
   "execution_count": 3,
   "metadata": {},
   "outputs": [
    {
     "data": {
      "text/plain": [
       "(174914, 11)"
      ]
     },
     "execution_count": 3,
     "metadata": {},
     "output_type": "execute_result"
    }
   ],
   "source": [
    "df = pd.read_csv('merged_data.csv')\n",
    "\n",
    "df.shape"
   ]
  },
  {
   "cell_type": "code",
   "execution_count": 4,
   "metadata": {},
   "outputs": [
    {
     "data": {
      "text/html": [
       "<div>\n",
       "<style scoped>\n",
       "    .dataframe tbody tr th:only-of-type {\n",
       "        vertical-align: middle;\n",
       "    }\n",
       "\n",
       "    .dataframe tbody tr th {\n",
       "        vertical-align: top;\n",
       "    }\n",
       "\n",
       "    .dataframe thead th {\n",
       "        text-align: right;\n",
       "    }\n",
       "</style>\n",
       "<table border=\"1\" class=\"dataframe\">\n",
       "  <thead>\n",
       "    <tr style=\"text-align: right;\">\n",
       "      <th></th>\n",
       "      <th>Richtung</th>\n",
       "      <th>AnzFahrzeuge</th>\n",
       "      <th>Luftfeuchtigkeit (%Hr)</th>\n",
       "      <th>Luftdruck (hPa)</th>\n",
       "      <th>Niederschlag</th>\n",
       "      <th>Temperatur (°C)</th>\n",
       "      <th>Time</th>\n",
       "      <th>Date</th>\n",
       "      <th>holiday</th>\n",
       "      <th>Hour</th>\n",
       "      <th>Weekday</th>\n",
       "    </tr>\n",
       "  </thead>\n",
       "  <tbody>\n",
       "    <tr>\n",
       "      <th>0</th>\n",
       "      <td>0</td>\n",
       "      <td>4043.0</td>\n",
       "      <td>92.51</td>\n",
       "      <td>970.12</td>\n",
       "      <td>1</td>\n",
       "      <td>7.58</td>\n",
       "      <td>00:00:00</td>\n",
       "      <td>2012-01-01</td>\n",
       "      <td>1</td>\n",
       "      <td>0</td>\n",
       "      <td>6</td>\n",
       "    </tr>\n",
       "    <tr>\n",
       "      <th>1</th>\n",
       "      <td>1</td>\n",
       "      <td>2931.0</td>\n",
       "      <td>92.51</td>\n",
       "      <td>970.12</td>\n",
       "      <td>1</td>\n",
       "      <td>7.58</td>\n",
       "      <td>00:00:00</td>\n",
       "      <td>2012-01-01</td>\n",
       "      <td>1</td>\n",
       "      <td>0</td>\n",
       "      <td>6</td>\n",
       "    </tr>\n",
       "    <tr>\n",
       "      <th>2</th>\n",
       "      <td>0</td>\n",
       "      <td>11021.0</td>\n",
       "      <td>91.00</td>\n",
       "      <td>970.09</td>\n",
       "      <td>1</td>\n",
       "      <td>7.98</td>\n",
       "      <td>01:00:00</td>\n",
       "      <td>2012-01-01</td>\n",
       "      <td>1</td>\n",
       "      <td>1</td>\n",
       "      <td>6</td>\n",
       "    </tr>\n",
       "    <tr>\n",
       "      <th>3</th>\n",
       "      <td>1</td>\n",
       "      <td>6660.0</td>\n",
       "      <td>91.00</td>\n",
       "      <td>970.09</td>\n",
       "      <td>1</td>\n",
       "      <td>7.98</td>\n",
       "      <td>01:00:00</td>\n",
       "      <td>2012-01-01</td>\n",
       "      <td>1</td>\n",
       "      <td>1</td>\n",
       "      <td>6</td>\n",
       "    </tr>\n",
       "    <tr>\n",
       "      <th>4</th>\n",
       "      <td>0</td>\n",
       "      <td>7892.0</td>\n",
       "      <td>90.38</td>\n",
       "      <td>970.46</td>\n",
       "      <td>0</td>\n",
       "      <td>7.62</td>\n",
       "      <td>02:00:00</td>\n",
       "      <td>2012-01-01</td>\n",
       "      <td>1</td>\n",
       "      <td>2</td>\n",
       "      <td>6</td>\n",
       "    </tr>\n",
       "  </tbody>\n",
       "</table>\n",
       "</div>"
      ],
      "text/plain": [
       "   Richtung  AnzFahrzeuge  Luftfeuchtigkeit (%Hr)  Luftdruck (hPa)  \\\n",
       "0         0        4043.0                   92.51           970.12   \n",
       "1         1        2931.0                   92.51           970.12   \n",
       "2         0       11021.0                   91.00           970.09   \n",
       "3         1        6660.0                   91.00           970.09   \n",
       "4         0        7892.0                   90.38           970.46   \n",
       "\n",
       "   Niederschlag  Temperatur (°C)      Time        Date  holiday  Hour  Weekday  \n",
       "0             1             7.58  00:00:00  2012-01-01        1     0        6  \n",
       "1             1             7.58  00:00:00  2012-01-01        1     0        6  \n",
       "2             1             7.98  01:00:00  2012-01-01        1     1        6  \n",
       "3             1             7.98  01:00:00  2012-01-01        1     1        6  \n",
       "4             0             7.62  02:00:00  2012-01-01        1     2        6  "
      ]
     },
     "execution_count": 4,
     "metadata": {},
     "output_type": "execute_result"
    }
   ],
   "source": [
    "df.head()"
   ]
  },
  {
   "cell_type": "code",
   "execution_count": 5,
   "metadata": {},
   "outputs": [],
   "source": [
    "# Creating a new column 'Hour' representing the hour as an integer\n",
    "df['Hour'] = df['Time'].apply(lambda x: int(x.split(':')[0]))\n",
    "\n",
    "# Creating a new column for weekday 0-6\n",
    "df['Weekday'] = pd.to_datetime(df['Date']).dt.weekday\n",
    "\n",
    "# Creating new column for year \n",
    "df['Year'] = df['Date'].apply(lambda x: int(x.split('-')[0]))\n",
    "\n",
    "# Creating new column for month\n",
    "df['Month'] = df['Date'].apply(lambda x: int(x.split('-')[1]))\n",
    "\n",
    "# Creating new column for day\n",
    "df['Day'] = df['Date'].apply(lambda x: int(x.split('-')[2]))"
   ]
  },
  {
   "cell_type": "code",
   "execution_count": 8,
   "metadata": {},
   "outputs": [
    {
     "data": {
      "text/html": [
       "<div>\n",
       "<style scoped>\n",
       "    .dataframe tbody tr th:only-of-type {\n",
       "        vertical-align: middle;\n",
       "    }\n",
       "\n",
       "    .dataframe tbody tr th {\n",
       "        vertical-align: top;\n",
       "    }\n",
       "\n",
       "    .dataframe thead th {\n",
       "        text-align: right;\n",
       "    }\n",
       "</style>\n",
       "<table border=\"1\" class=\"dataframe\">\n",
       "  <thead>\n",
       "    <tr style=\"text-align: right;\">\n",
       "      <th></th>\n",
       "      <th>Richtung</th>\n",
       "      <th>AnzFahrzeuge</th>\n",
       "      <th>Luftfeuchtigkeit (%Hr)</th>\n",
       "      <th>Luftdruck (hPa)</th>\n",
       "      <th>Niederschlag</th>\n",
       "      <th>Temperatur (°C)</th>\n",
       "      <th>Time</th>\n",
       "      <th>Date</th>\n",
       "      <th>holiday</th>\n",
       "      <th>Hour</th>\n",
       "      <th>Weekday</th>\n",
       "      <th>Year</th>\n",
       "      <th>Month</th>\n",
       "      <th>Day</th>\n",
       "    </tr>\n",
       "  </thead>\n",
       "  <tbody>\n",
       "    <tr>\n",
       "      <th>0</th>\n",
       "      <td>0</td>\n",
       "      <td>4043.0</td>\n",
       "      <td>92.51</td>\n",
       "      <td>970.12</td>\n",
       "      <td>1</td>\n",
       "      <td>7.58</td>\n",
       "      <td>00:00:00</td>\n",
       "      <td>2012-01-01</td>\n",
       "      <td>1</td>\n",
       "      <td>0</td>\n",
       "      <td>6</td>\n",
       "      <td>2012</td>\n",
       "      <td>1</td>\n",
       "      <td>1</td>\n",
       "    </tr>\n",
       "    <tr>\n",
       "      <th>1</th>\n",
       "      <td>1</td>\n",
       "      <td>2931.0</td>\n",
       "      <td>92.51</td>\n",
       "      <td>970.12</td>\n",
       "      <td>1</td>\n",
       "      <td>7.58</td>\n",
       "      <td>00:00:00</td>\n",
       "      <td>2012-01-01</td>\n",
       "      <td>1</td>\n",
       "      <td>0</td>\n",
       "      <td>6</td>\n",
       "      <td>2012</td>\n",
       "      <td>1</td>\n",
       "      <td>1</td>\n",
       "    </tr>\n",
       "    <tr>\n",
       "      <th>2</th>\n",
       "      <td>0</td>\n",
       "      <td>11021.0</td>\n",
       "      <td>91.00</td>\n",
       "      <td>970.09</td>\n",
       "      <td>1</td>\n",
       "      <td>7.98</td>\n",
       "      <td>01:00:00</td>\n",
       "      <td>2012-01-01</td>\n",
       "      <td>1</td>\n",
       "      <td>1</td>\n",
       "      <td>6</td>\n",
       "      <td>2012</td>\n",
       "      <td>1</td>\n",
       "      <td>1</td>\n",
       "    </tr>\n",
       "    <tr>\n",
       "      <th>3</th>\n",
       "      <td>1</td>\n",
       "      <td>6660.0</td>\n",
       "      <td>91.00</td>\n",
       "      <td>970.09</td>\n",
       "      <td>1</td>\n",
       "      <td>7.98</td>\n",
       "      <td>01:00:00</td>\n",
       "      <td>2012-01-01</td>\n",
       "      <td>1</td>\n",
       "      <td>1</td>\n",
       "      <td>6</td>\n",
       "      <td>2012</td>\n",
       "      <td>1</td>\n",
       "      <td>1</td>\n",
       "    </tr>\n",
       "    <tr>\n",
       "      <th>4</th>\n",
       "      <td>0</td>\n",
       "      <td>7892.0</td>\n",
       "      <td>90.38</td>\n",
       "      <td>970.46</td>\n",
       "      <td>0</td>\n",
       "      <td>7.62</td>\n",
       "      <td>02:00:00</td>\n",
       "      <td>2012-01-01</td>\n",
       "      <td>1</td>\n",
       "      <td>2</td>\n",
       "      <td>6</td>\n",
       "      <td>2012</td>\n",
       "      <td>1</td>\n",
       "      <td>1</td>\n",
       "    </tr>\n",
       "  </tbody>\n",
       "</table>\n",
       "</div>"
      ],
      "text/plain": [
       "   Richtung  AnzFahrzeuge  Luftfeuchtigkeit (%Hr)  Luftdruck (hPa)  \\\n",
       "0         0        4043.0                   92.51           970.12   \n",
       "1         1        2931.0                   92.51           970.12   \n",
       "2         0       11021.0                   91.00           970.09   \n",
       "3         1        6660.0                   91.00           970.09   \n",
       "4         0        7892.0                   90.38           970.46   \n",
       "\n",
       "   Niederschlag  Temperatur (°C)      Time        Date  holiday  Hour  \\\n",
       "0             1             7.58  00:00:00  2012-01-01        1     0   \n",
       "1             1             7.58  00:00:00  2012-01-01        1     0   \n",
       "2             1             7.98  01:00:00  2012-01-01        1     1   \n",
       "3             1             7.98  01:00:00  2012-01-01        1     1   \n",
       "4             0             7.62  02:00:00  2012-01-01        1     2   \n",
       "\n",
       "   Weekday  Year  Month  Day  \n",
       "0        6  2012      1    1  \n",
       "1        6  2012      1    1  \n",
       "2        6  2012      1    1  \n",
       "3        6  2012      1    1  \n",
       "4        6  2012      1    1  "
      ]
     },
     "execution_count": 8,
     "metadata": {},
     "output_type": "execute_result"
    }
   ],
   "source": [
    "df.head()"
   ]
  },
  {
   "cell_type": "code",
   "execution_count": 6,
   "metadata": {},
   "outputs": [],
   "source": [
    "# overwrite the existing merged_data.csv\n",
    "df.to_csv('merged_data.csv', index=False)"
   ]
  },
  {
   "cell_type": "code",
   "execution_count": 9,
   "metadata": {},
   "outputs": [
    {
     "data": {
      "text/plain": [
       "Richtung                    int64\n",
       "AnzFahrzeuge              float64\n",
       "Luftfeuchtigkeit (%Hr)    float64\n",
       "Luftdruck (hPa)           float64\n",
       "Niederschlag                int64\n",
       "Temperatur (°C)           float64\n",
       "Time                       object\n",
       "Date                       object\n",
       "holiday                     int64\n",
       "Hour                        int64\n",
       "Weekday                     int64\n",
       "Year                        int64\n",
       "Month                       int64\n",
       "Day                         int64\n",
       "dtype: object"
      ]
     },
     "execution_count": 9,
     "metadata": {},
     "output_type": "execute_result"
    }
   ],
   "source": [
    "df.dtypes"
   ]
  },
  {
   "cell_type": "code",
   "execution_count": 7,
   "metadata": {},
   "outputs": [
    {
     "name": "stdout",
     "output_type": "stream",
     "text": [
      "-----------------------------------\n",
      "NT\n",
      "Windows | 10\n",
      "Datetime: 2023-06-17 02:33:56\n",
      "Python Version: 3.10.11\n",
      "-----------------------------------\n"
     ]
    }
   ],
   "source": [
    "print('-----------------------------------')\n",
    "print(os.name.upper())\n",
    "print(platform.system(), '|', platform.release())\n",
    "print('Datetime:', datetime.now().strftime(\"%Y-%m-%d %H:%M:%S\"))\n",
    "print('Python Version:', python_version())\n",
    "print('-----------------------------------')"
   ]
  }
 ],
 "metadata": {
  "kernelspec": {
   "display_name": "kia",
   "language": "python",
   "name": "python3"
  },
  "language_info": {
   "codemirror_mode": {
    "name": "ipython",
    "version": 3
   },
   "file_extension": ".py",
   "mimetype": "text/x-python",
   "name": "python",
   "nbconvert_exporter": "python",
   "pygments_lexer": "ipython3",
   "version": "3.10.11"
  },
  "orig_nbformat": 4
 },
 "nbformat": 4,
 "nbformat_minor": 2
}
