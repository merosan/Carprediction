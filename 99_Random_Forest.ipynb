{
 "cells": [
  {
   "cell_type": "code",
   "execution_count": 1,
   "metadata": {},
   "outputs": [
    {
     "name": "stdout",
     "output_type": "stream",
     "text": [
      "c:\\Users\\sandr\\Documents\\01 Data\\01 ZHAW\\06 Semester\\04 KI Anwendung\\00 Project\\app\n"
     ]
    }
   ],
   "source": [
    "# Libraries\n",
    "import os\n",
    "import numpy as np\n",
    "import pandas as pd\n",
    "import statsmodels.api as sm\n",
    "import matplotlib.pyplot as plt\n",
    "from sklearn.ensemble import RandomForestRegressor\n",
    "from sklearn.preprocessing import PolynomialFeatures\n",
    "from sklearn.pipeline import Pipeline\n",
    "from sklearn.linear_model import LinearRegression\n",
    "from sklearn.model_selection import train_test_split\n",
    "from sklearn.metrics import mean_squared_error\n",
    "from sklearn.model_selection import cross_val_score\n",
    "import platform\n",
    "import socket\n",
    "from platform import python_version\n",
    "from datetime import datetime\n",
    "\n",
    "# Ignore warnings\n",
    "import warnings\n",
    "warnings.filterwarnings('ignore')\n",
    "\n",
    "# Show current working directory\n",
    "print(os.getcwd())"
   ]
  },
  {
   "cell_type": "code",
   "execution_count": 2,
   "metadata": {},
   "outputs": [
    {
     "data": {
      "text/html": [
       "<div>\n",
       "<style scoped>\n",
       "    .dataframe tbody tr th:only-of-type {\n",
       "        vertical-align: middle;\n",
       "    }\n",
       "\n",
       "    .dataframe tbody tr th {\n",
       "        vertical-align: top;\n",
       "    }\n",
       "\n",
       "    .dataframe thead th {\n",
       "        text-align: right;\n",
       "    }\n",
       "</style>\n",
       "<table border=\"1\" class=\"dataframe\">\n",
       "  <thead>\n",
       "    <tr style=\"text-align: right;\">\n",
       "      <th></th>\n",
       "      <th>Richtung</th>\n",
       "      <th>AnzFahrzeuge</th>\n",
       "      <th>Luftfeuchtigkeit (%Hr)</th>\n",
       "      <th>Luftdruck (hPa)</th>\n",
       "      <th>Niederschlag</th>\n",
       "      <th>Temperatur (°C)</th>\n",
       "      <th>Time</th>\n",
       "      <th>Date</th>\n",
       "      <th>holiday</th>\n",
       "    </tr>\n",
       "  </thead>\n",
       "  <tbody>\n",
       "    <tr>\n",
       "      <th>0</th>\n",
       "      <td>0</td>\n",
       "      <td>4043.0</td>\n",
       "      <td>92.51</td>\n",
       "      <td>970.12</td>\n",
       "      <td>1</td>\n",
       "      <td>7.58</td>\n",
       "      <td>00:00:00</td>\n",
       "      <td>2012-01-01</td>\n",
       "      <td>1</td>\n",
       "    </tr>\n",
       "    <tr>\n",
       "      <th>1</th>\n",
       "      <td>1</td>\n",
       "      <td>2931.0</td>\n",
       "      <td>92.51</td>\n",
       "      <td>970.12</td>\n",
       "      <td>1</td>\n",
       "      <td>7.58</td>\n",
       "      <td>00:00:00</td>\n",
       "      <td>2012-01-01</td>\n",
       "      <td>1</td>\n",
       "    </tr>\n",
       "    <tr>\n",
       "      <th>2</th>\n",
       "      <td>0</td>\n",
       "      <td>11021.0</td>\n",
       "      <td>91.00</td>\n",
       "      <td>970.09</td>\n",
       "      <td>1</td>\n",
       "      <td>7.98</td>\n",
       "      <td>01:00:00</td>\n",
       "      <td>2012-01-01</td>\n",
       "      <td>1</td>\n",
       "    </tr>\n",
       "    <tr>\n",
       "      <th>3</th>\n",
       "      <td>1</td>\n",
       "      <td>6660.0</td>\n",
       "      <td>91.00</td>\n",
       "      <td>970.09</td>\n",
       "      <td>1</td>\n",
       "      <td>7.98</td>\n",
       "      <td>01:00:00</td>\n",
       "      <td>2012-01-01</td>\n",
       "      <td>1</td>\n",
       "    </tr>\n",
       "    <tr>\n",
       "      <th>4</th>\n",
       "      <td>0</td>\n",
       "      <td>7892.0</td>\n",
       "      <td>90.38</td>\n",
       "      <td>970.46</td>\n",
       "      <td>0</td>\n",
       "      <td>7.62</td>\n",
       "      <td>02:00:00</td>\n",
       "      <td>2012-01-01</td>\n",
       "      <td>1</td>\n",
       "    </tr>\n",
       "  </tbody>\n",
       "</table>\n",
       "</div>"
      ],
      "text/plain": [
       "   Richtung  AnzFahrzeuge  Luftfeuchtigkeit (%Hr)  Luftdruck (hPa)  \\\n",
       "0         0        4043.0                   92.51           970.12   \n",
       "1         1        2931.0                   92.51           970.12   \n",
       "2         0       11021.0                   91.00           970.09   \n",
       "3         1        6660.0                   91.00           970.09   \n",
       "4         0        7892.0                   90.38           970.46   \n",
       "\n",
       "   Niederschlag  Temperatur (°C)      Time        Date  holiday  \n",
       "0             1             7.58  00:00:00  2012-01-01        1  \n",
       "1             1             7.58  00:00:00  2012-01-01        1  \n",
       "2             1             7.98  01:00:00  2012-01-01        1  \n",
       "3             1             7.98  01:00:00  2012-01-01        1  \n",
       "4             0             7.62  02:00:00  2012-01-01        1  "
      ]
     },
     "execution_count": 2,
     "metadata": {},
     "output_type": "execute_result"
    }
   ],
   "source": [
    "df = pd.read_csv('merged_data.csv')\n",
    "df.head()"
   ]
  },
  {
   "cell_type": "code",
   "execution_count": 4,
   "metadata": {},
   "outputs": [
    {
     "name": "stdout",
     "output_type": "stream",
     "text": [
      "X_train:\n",
      "        Temperatur (°C)  Niederschlag  Richtung  Luftfeuchtigkeit (%Hr)  \\\n",
      "75941              9.91             1         1                   80.85   \n",
      "38564             12.80             0         0                   49.99   \n",
      "71511             11.93             0         1                   78.84   \n",
      "17263              9.18             0         1                   58.24   \n",
      "143786            10.79             0         0                   80.75   \n",
      "\n",
      "        Luftdruck (hPa)  holiday  \n",
      "75941            973.09        0  \n",
      "38564            971.85        0  \n",
      "71511            976.02        0  \n",
      "17263            969.26        0  \n",
      "143786           967.29        0   \n",
      "\n",
      "y_train:\n",
      "75941     18903.0\n",
      "38564     16568.0\n",
      "71511     25750.0\n",
      "17263     12616.0\n",
      "143786     7525.0\n",
      "Name: AnzFahrzeuge, dtype: float64\n"
     ]
    }
   ],
   "source": [
    "# Create train and test samples\n",
    "X_train, X_test, y_train, y_test = train_test_split(df[['Temperatur (°C)',\n",
    "                                                        'Niederschlag',\n",
    "                                                        'Richtung',\n",
    "                                                        'Luftfeuchtigkeit (%Hr)',\n",
    "                                                        'Luftdruck (hPa)',\n",
    "                                                        'holiday']], \n",
    "                                                    df['AnzFahrzeuge'], \n",
    "                                                    test_size=0.20, \n",
    "                                                    random_state=42)\n",
    "# Show X_train\n",
    "print('X_train:')\n",
    "print(X_train.head(), '\\n')\n",
    "\n",
    "# Show y_train\n",
    "print('y_train:')\n",
    "print(y_train.head())"
   ]
  },
  {
   "cell_type": "code",
   "execution_count": 5,
   "metadata": {},
   "outputs": [
    {
     "name": "stdout",
     "output_type": "stream",
     "text": [
      "--RandomForestRegressor(random_state=42)--\n",
      "[-6342.72669512 -6350.20473663 -6316.41014572 -6303.92367298\n",
      " -6297.78723622]\n",
      "-6322.210497333469\n"
     ]
    }
   ],
   "source": [
    "randomforest_model = RandomForestRegressor(random_state=42)\n",
    "\n",
    "scores = cross_val_score(randomforest_model, X_train, y_train, scoring=\"neg_root_mean_squared_error\", cv=5)\n",
    "print('--{}--'.format(randomforest_model))\n",
    "print(scores)\n",
    "print(np.mean(scores)) "
   ]
  },
  {
   "cell_type": "code",
   "execution_count": 8,
   "metadata": {},
   "outputs": [
    {
     "name": "stdout",
     "output_type": "stream",
     "text": [
      "Fitting 5 folds for each of 6 candidates, totalling 30 fits\n",
      "[CV] END .......................max_depth=25, max_features=7; total time=  37.2s\n",
      "[CV] END .......................max_depth=25, max_features=7; total time=  37.1s\n",
      "[CV] END .......................max_depth=25, max_features=7; total time=  36.3s\n",
      "[CV] END .......................max_depth=25, max_features=7; total time=  35.7s\n",
      "[CV] END .......................max_depth=25, max_features=7; total time=  35.7s\n",
      "[CV] END .......................max_depth=25, max_features=9; total time=  35.8s\n",
      "[CV] END .......................max_depth=25, max_features=9; total time=  35.6s\n",
      "[CV] END .......................max_depth=25, max_features=9; total time=  35.7s\n",
      "[CV] END .......................max_depth=25, max_features=9; total time=  35.7s\n",
      "[CV] END .......................max_depth=25, max_features=9; total time=  35.8s\n",
      "[CV] END .......................max_depth=30, max_features=7; total time=  38.3s\n",
      "[CV] END .......................max_depth=30, max_features=7; total time=  38.3s\n",
      "[CV] END .......................max_depth=30, max_features=7; total time=  38.2s\n",
      "[CV] END .......................max_depth=30, max_features=7; total time=  38.1s\n",
      "[CV] END .......................max_depth=30, max_features=7; total time=  38.2s\n",
      "[CV] END .......................max_depth=30, max_features=9; total time=  38.3s\n",
      "[CV] END .......................max_depth=30, max_features=9; total time=  38.4s\n",
      "[CV] END .......................max_depth=30, max_features=9; total time=  38.1s\n",
      "[CV] END .......................max_depth=30, max_features=9; total time=  38.1s\n",
      "[CV] END .......................max_depth=30, max_features=9; total time=  37.2s\n",
      "[CV] END .......................max_depth=35, max_features=7; total time=  38.0s\n",
      "[CV] END .......................max_depth=35, max_features=7; total time=  37.9s\n",
      "[CV] END .......................max_depth=35, max_features=7; total time=  37.9s\n",
      "[CV] END .......................max_depth=35, max_features=7; total time=  37.8s\n",
      "[CV] END .......................max_depth=35, max_features=7; total time=  37.8s\n",
      "[CV] END .......................max_depth=35, max_features=9; total time=  38.3s\n",
      "[CV] END .......................max_depth=35, max_features=9; total time=  38.0s\n",
      "[CV] END .......................max_depth=35, max_features=9; total time=  38.0s\n",
      "[CV] END .......................max_depth=35, max_features=9; total time=  38.9s\n",
      "[CV] END .......................max_depth=35, max_features=9; total time=  37.4s\n",
      "RandomForestRegressor(max_depth=25, max_features=7, random_state=42)\n",
      "{'max_depth': 25, 'max_features': 7}\n",
      "-6283.418383613094\n"
     ]
    }
   ],
   "source": [
    "from sklearn.model_selection import GridSearchCV\n",
    "\n",
    "\n",
    "param_grid = {'max_depth': [25, 30, 35],\n",
    "'max_features': [7, 9]\n",
    "}\n",
    "\n",
    "grid_search_rf = GridSearchCV(randomforest_model, param_grid, cv=5, scoring='neg_root_mean_squared_error', verbose=2) # add param verbose = 2 to see the state\n",
    "grid_search_rf.fit(X_train, y_train)\n",
    "print(grid_search_rf.best_estimator_)\n",
    "print(grid_search_rf.best_params_)\n",
    "print(grid_search_rf.best_score_)"
   ]
  }
 ],
 "metadata": {
  "kernelspec": {
   "display_name": "kia",
   "language": "python",
   "name": "python3"
  },
  "language_info": {
   "codemirror_mode": {
    "name": "ipython",
    "version": 3
   },
   "file_extension": ".py",
   "mimetype": "text/x-python",
   "name": "python",
   "nbconvert_exporter": "python",
   "pygments_lexer": "ipython3",
   "version": "3.10.11"
  },
  "orig_nbformat": 4
 },
 "nbformat": 4,
 "nbformat_minor": 2
}
