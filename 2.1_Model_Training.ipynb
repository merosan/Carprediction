{
 "cells": [
  {
   "cell_type": "code",
   "execution_count": 1,
   "metadata": {},
   "outputs": [
    {
     "name": "stdout",
     "output_type": "stream",
     "text": [
      "c:\\Users\\sandr\\Documents\\01 Data\\01 ZHAW\\06 Semester\\04 KI Anwendung\\00 Project\\app\n"
     ]
    }
   ],
   "source": [
    "# Libraries\n",
    "import os\n",
    "import numpy as np\n",
    "import pandas as pd\n",
    "import statsmodels.api as sm\n",
    "import matplotlib.pyplot as plt\n",
    "from sklearn.ensemble import RandomForestRegressor\n",
    "from sklearn.preprocessing import PolynomialFeatures\n",
    "from sklearn.pipeline import Pipeline\n",
    "from sklearn.linear_model import LinearRegression\n",
    "from sklearn.model_selection import train_test_split\n",
    "from sklearn.metrics import mean_squared_error\n",
    "from sklearn.model_selection import cross_val_score\n",
    "import platform\n",
    "import socket\n",
    "from platform import python_version\n",
    "from datetime import datetime\n",
    "\n",
    "# Ignore warnings\n",
    "import warnings\n",
    "warnings.filterwarnings('ignore')\n",
    "\n",
    "# Show current working directory\n",
    "print(os.getcwd())"
   ]
  },
  {
   "cell_type": "code",
   "execution_count": 2,
   "metadata": {},
   "outputs": [
    {
     "data": {
      "text/html": [
       "<div>\n",
       "<style scoped>\n",
       "    .dataframe tbody tr th:only-of-type {\n",
       "        vertical-align: middle;\n",
       "    }\n",
       "\n",
       "    .dataframe tbody tr th {\n",
       "        vertical-align: top;\n",
       "    }\n",
       "\n",
       "    .dataframe thead th {\n",
       "        text-align: right;\n",
       "    }\n",
       "</style>\n",
       "<table border=\"1\" class=\"dataframe\">\n",
       "  <thead>\n",
       "    <tr style=\"text-align: right;\">\n",
       "      <th></th>\n",
       "      <th>Richtung</th>\n",
       "      <th>AnzFahrzeuge</th>\n",
       "      <th>Luftfeuchtigkeit (%Hr)</th>\n",
       "      <th>Luftdruck (hPa)</th>\n",
       "      <th>Niederschlag</th>\n",
       "      <th>Temperatur (°C)</th>\n",
       "      <th>Time</th>\n",
       "      <th>Date</th>\n",
       "      <th>holiday</th>\n",
       "      <th>Hour</th>\n",
       "      <th>Weekday</th>\n",
       "      <th>Year</th>\n",
       "      <th>Month</th>\n",
       "      <th>Day</th>\n",
       "    </tr>\n",
       "  </thead>\n",
       "  <tbody>\n",
       "    <tr>\n",
       "      <th>0</th>\n",
       "      <td>0</td>\n",
       "      <td>4043.0</td>\n",
       "      <td>92.51</td>\n",
       "      <td>970.12</td>\n",
       "      <td>1</td>\n",
       "      <td>7.58</td>\n",
       "      <td>00:00:00</td>\n",
       "      <td>2012-01-01</td>\n",
       "      <td>1</td>\n",
       "      <td>0</td>\n",
       "      <td>6</td>\n",
       "      <td>2012</td>\n",
       "      <td>1</td>\n",
       "      <td>1</td>\n",
       "    </tr>\n",
       "    <tr>\n",
       "      <th>1</th>\n",
       "      <td>1</td>\n",
       "      <td>2931.0</td>\n",
       "      <td>92.51</td>\n",
       "      <td>970.12</td>\n",
       "      <td>1</td>\n",
       "      <td>7.58</td>\n",
       "      <td>00:00:00</td>\n",
       "      <td>2012-01-01</td>\n",
       "      <td>1</td>\n",
       "      <td>0</td>\n",
       "      <td>6</td>\n",
       "      <td>2012</td>\n",
       "      <td>1</td>\n",
       "      <td>1</td>\n",
       "    </tr>\n",
       "    <tr>\n",
       "      <th>2</th>\n",
       "      <td>0</td>\n",
       "      <td>11021.0</td>\n",
       "      <td>91.00</td>\n",
       "      <td>970.09</td>\n",
       "      <td>1</td>\n",
       "      <td>7.98</td>\n",
       "      <td>01:00:00</td>\n",
       "      <td>2012-01-01</td>\n",
       "      <td>1</td>\n",
       "      <td>1</td>\n",
       "      <td>6</td>\n",
       "      <td>2012</td>\n",
       "      <td>1</td>\n",
       "      <td>1</td>\n",
       "    </tr>\n",
       "    <tr>\n",
       "      <th>3</th>\n",
       "      <td>1</td>\n",
       "      <td>6660.0</td>\n",
       "      <td>91.00</td>\n",
       "      <td>970.09</td>\n",
       "      <td>1</td>\n",
       "      <td>7.98</td>\n",
       "      <td>01:00:00</td>\n",
       "      <td>2012-01-01</td>\n",
       "      <td>1</td>\n",
       "      <td>1</td>\n",
       "      <td>6</td>\n",
       "      <td>2012</td>\n",
       "      <td>1</td>\n",
       "      <td>1</td>\n",
       "    </tr>\n",
       "    <tr>\n",
       "      <th>4</th>\n",
       "      <td>0</td>\n",
       "      <td>7892.0</td>\n",
       "      <td>90.38</td>\n",
       "      <td>970.46</td>\n",
       "      <td>0</td>\n",
       "      <td>7.62</td>\n",
       "      <td>02:00:00</td>\n",
       "      <td>2012-01-01</td>\n",
       "      <td>1</td>\n",
       "      <td>2</td>\n",
       "      <td>6</td>\n",
       "      <td>2012</td>\n",
       "      <td>1</td>\n",
       "      <td>1</td>\n",
       "    </tr>\n",
       "  </tbody>\n",
       "</table>\n",
       "</div>"
      ],
      "text/plain": [
       "   Richtung  AnzFahrzeuge  Luftfeuchtigkeit (%Hr)  Luftdruck (hPa)  \\\n",
       "0         0        4043.0                   92.51           970.12   \n",
       "1         1        2931.0                   92.51           970.12   \n",
       "2         0       11021.0                   91.00           970.09   \n",
       "3         1        6660.0                   91.00           970.09   \n",
       "4         0        7892.0                   90.38           970.46   \n",
       "\n",
       "   Niederschlag  Temperatur (°C)      Time        Date  holiday  Hour  \\\n",
       "0             1             7.58  00:00:00  2012-01-01        1     0   \n",
       "1             1             7.58  00:00:00  2012-01-01        1     0   \n",
       "2             1             7.98  01:00:00  2012-01-01        1     1   \n",
       "3             1             7.98  01:00:00  2012-01-01        1     1   \n",
       "4             0             7.62  02:00:00  2012-01-01        1     2   \n",
       "\n",
       "   Weekday  Year  Month  Day  \n",
       "0        6  2012      1    1  \n",
       "1        6  2012      1    1  \n",
       "2        6  2012      1    1  \n",
       "3        6  2012      1    1  \n",
       "4        6  2012      1    1  "
      ]
     },
     "execution_count": 2,
     "metadata": {},
     "output_type": "execute_result"
    }
   ],
   "source": [
    "df = pd.read_csv('merged_data.csv')\n",
    "df.head()"
   ]
  },
  {
   "attachments": {},
   "cell_type": "markdown",
   "metadata": {},
   "source": [
    "### Prep"
   ]
  },
  {
   "cell_type": "code",
   "execution_count": 3,
   "metadata": {},
   "outputs": [
    {
     "name": "stdout",
     "output_type": "stream",
     "text": [
      "X_train:\n",
      "        Temperatur (°C)  Niederschlag  Richtung  Luftfeuchtigkeit (%Hr)  \\\n",
      "75941              9.91             1         1                   80.85   \n",
      "38564             12.80             0         0                   49.99   \n",
      "71511             11.93             0         1                   78.84   \n",
      "17263              9.18             0         1                   58.24   \n",
      "143786            10.79             0         0                   80.75   \n",
      "\n",
      "        Luftdruck (hPa)  holiday  Hour  Weekday  Year  Month  Day  \n",
      "75941            973.09        0    16        1  2016      5    3  \n",
      "38564            971.85        0    13        5  2014      3   15  \n",
      "71511            976.02        0     8        0  2016      2    1  \n",
      "17263            969.26        0    13        2  2012     12   26  \n",
      "143786           967.29        0    10        5  2020      3   21   \n",
      "\n",
      "y_train:\n",
      "75941     18903.0\n",
      "38564     16568.0\n",
      "71511     25750.0\n",
      "17263     12616.0\n",
      "143786     7525.0\n",
      "Name: AnzFahrzeuge, dtype: float64\n"
     ]
    }
   ],
   "source": [
    "# Create train and test samples\n",
    "X_train, X_test, y_train, y_test = train_test_split(df[['Temperatur (°C)',\n",
    "                                                        'Niederschlag',\n",
    "                                                        'Richtung',\n",
    "                                                        'Luftfeuchtigkeit (%Hr)',\n",
    "                                                        'Luftdruck (hPa)',\n",
    "                                                        'holiday',\n",
    "                                                        'Hour',\n",
    "                                                        'Weekday',\n",
    "                                                        'Year',\n",
    "                                                        'Month',\n",
    "                                                        'Day']], \n",
    "                                                    df['AnzFahrzeuge'], \n",
    "                                                    test_size=0.20, \n",
    "                                                    random_state=42)\n",
    "# Show X_train\n",
    "print('X_train:')\n",
    "print(X_train.head(), '\\n')\n",
    "\n",
    "# Show y_train\n",
    "print('y_train:')\n",
    "print(y_train.head())"
   ]
  },
  {
   "cell_type": "code",
   "execution_count": 4,
   "metadata": {},
   "outputs": [],
   "source": [
    "lin_reg = LinearRegression().fit(X_train, y_train)\n",
    "\n",
    "y_predicted = lin_reg.predict(X_test)\n",
    "\n",
    "y_residuals = y_test - y_predicted\n",
    "\n",
    "mse = mean_squared_error(y_test, y_predicted)"
   ]
  },
  {
   "cell_type": "code",
   "execution_count": 5,
   "metadata": {},
   "outputs": [
    {
     "data": {
      "image/png": "[encoded data removed]",
      "text/plain": [
       "<Figure size 800x400 with 1 Axes>"
      ]
     },
     "metadata": {},
     "output_type": "display_data"
    }
   ],
   "source": [
    "fig = plt.figure( figsize=(8,4))\n",
    "n, bins, patches = plt.hist(x=y_residuals, \n",
    "                            bins=20, \n",
    "                            color='blue',\n",
    "                            alpha=0.5\n",
    "                   )\n",
    "\n",
    "# Set labels\n",
    "plt.xlabel('residuals', fontsize=10, labelpad=10)\n",
    "plt.ylabel('frequency', fontsize=10, labelpad=10)\n",
    "plt.title('Histogram of model residuals', fontsize=12, pad=10)\n",
    "\n",
    "plt.show()"
   ]
  },
  {
   "attachments": {},
   "cell_type": "markdown",
   "metadata": {},
   "source": [
    "### Linear Regression"
   ]
  },
  {
   "cell_type": "code",
   "execution_count": 36,
   "metadata": {},
   "outputs": [
    {
     "name": "stdout",
     "output_type": "stream",
     "text": [
      "--LinearRegression()--\n",
      "[-6123.9667721  -6127.17508298 -6093.71064974 -6145.20447601\n",
      " -6111.97408713]\n",
      "-6120.406213592671\n"
     ]
    }
   ],
   "source": [
    "# train linear_model = LinearRegression()\n",
    "linear_model = LinearRegression()\n",
    "\n",
    "scores = cross_val_score(linear_model, X_train, y_train, scoring=\"neg_root_mean_squared_error\", cv=5)\n",
    "print('--{}--'.format(linear_model))\n",
    "print(scores)\n",
    "print(np.mean(scores)) "
   ]
  },
  {
   "cell_type": "code",
   "execution_count": 37,
   "metadata": {},
   "outputs": [
    {
     "data": {
      "text/plain": [
       "{'copy_X': True,\n",
       " 'fit_intercept': True,\n",
       " 'n_jobs': None,\n",
       " 'normalize': 'deprecated',\n",
       " 'positive': False}"
      ]
     },
     "execution_count": 37,
     "metadata": {},
     "output_type": "execute_result"
    }
   ],
   "source": [
    "linear_model.get_params()"
   ]
  },
  {
   "attachments": {},
   "cell_type": "markdown",
   "metadata": {},
   "source": [
    "### Polynominal "
   ]
  },
  {
   "cell_type": "code",
   "execution_count": null,
   "metadata": {},
   "outputs": [],
   "source": [
    "polynomial_model = Pipeline([\n",
    "                                (\"polynomial_features\", PolynomialFeatures(degree=2)),\n",
    "                                (\"linear_regression\", LinearRegression()),\n",
    "                            ])\n",
    "\n",
    "scores = cross_val_score(polynomial_model, X_train, y_train, scoring=\"neg_root_mean_squared_error\", cv=5)\n",
    "print('--{}--'.format(polynomial_model))\n",
    "print(scores)\n",
    "print(np.mean(scores)) "
   ]
  },
  {
   "cell_type": "code",
   "execution_count": null,
   "metadata": {},
   "outputs": [],
   "source": [
    "from sklearn.model_selection import GridSearchCV\n",
    "\n",
    "param_grid = {\n",
    "'polynomial_features__degree': [2, 3, 4], \n",
    "'polynomial_features__include_bias': [True, False],\n",
    "}\n",
    "\n",
    "grid_search_pl = GridSearchCV(polynomial_model, param_grid, cv=5, scoring='neg_root_mean_squared_error', verbose=2) # add param verbose = 2 to see the state\n",
    "grid_search_pl.fit(X_train, y_train)\n",
    "print(grid_search_pl.best_estimator_)\n",
    "print(grid_search_pl.best_params_)\n",
    "print(grid_search_pl.best_score_)"
   ]
  },
  {
   "attachments": {},
   "cell_type": "markdown",
   "metadata": {},
   "source": [
    "### Random Forest\n"
   ]
  },
  {
   "cell_type": "code",
   "execution_count": null,
   "metadata": {},
   "outputs": [],
   "source": [
    "randomforest_model = RandomForestRegressor(random_state=42)\n",
    "\n",
    "scores = cross_val_score(randomforest_model, X_train, y_train, scoring=\"neg_root_mean_squared_error\", cv=5)\n",
    "print('--{}--'.format(randomforest_model))\n",
    "print(scores)\n",
    "print(np.mean(scores)) "
   ]
  },
  {
   "cell_type": "code",
   "execution_count": null,
   "metadata": {},
   "outputs": [],
   "source": [
    "randomforest_model.get_params()"
   ]
  },
  {
   "cell_type": "code",
   "execution_count": null,
   "metadata": {},
   "outputs": [],
   "source": [
    "from sklearn.model_selection import GridSearchCV\n",
    "\n",
    "\n",
    "param_grid = {'max_depth': [10, 15, 20 ],\n",
    "'max_features': [5, 7, 9]\n",
    "}\n",
    "\n",
    "grid_search_rf = GridSearchCV(randomforest_model, param_grid, cv=5, scoring='neg_root_mean_squared_error', verbose=2) # add param verbose = 2 to see the state\n",
    "grid_search_rf.fit(X_train, y_train)\n",
    "print(grid_search_rf.best_estimator_)\n",
    "print(grid_search_rf.best_params_)\n",
    "print(grid_search_rf.best_score_)"
   ]
  },
  {
   "attachments": {},
   "cell_type": "markdown",
   "metadata": {},
   "source": [
    "### Gradient Boosting"
   ]
  },
  {
   "cell_type": "code",
   "execution_count": 6,
   "metadata": {},
   "outputs": [
    {
     "name": "stdout",
     "output_type": "stream",
     "text": [
      "--GradientBoostingRegressor(random_state=42)--\n",
      "[-2215.63992903 -2173.43434279 -2163.64487398 -2238.66090865\n",
      " -2162.8905522 ]\n",
      "-2190.854121330483\n"
     ]
    }
   ],
   "source": [
    "from sklearn.ensemble import GradientBoostingRegressor\n",
    "from sklearn.model_selection import cross_val_score\n",
    "import numpy as np\n",
    "\n",
    "gradientboost_model = GradientBoostingRegressor(random_state=42)\n",
    "\n",
    "scores = cross_val_score(gradientboost_model, X_train, y_train, scoring=\"neg_root_mean_squared_error\", cv=5)\n",
    "print('--{}--'.format(gradientboost_model))\n",
    "print(scores)\n",
    "print(np.mean(scores))\n"
   ]
  },
  {
   "cell_type": "code",
   "execution_count": 7,
   "metadata": {},
   "outputs": [
    {
     "name": "stdout",
     "output_type": "stream",
     "text": [
      "Fitting 5 folds for each of 9 candidates, totalling 45 fits\n",
      "[CV] END .......................max_depth=10, max_features=5; total time=  18.1s\n",
      "[CV] END .......................max_depth=10, max_features=5; total time=  17.2s\n",
      "[CV] END .......................max_depth=10, max_features=5; total time=  17.2s\n",
      "[CV] END .......................max_depth=10, max_features=5; total time=  17.2s\n",
      "[CV] END .......................max_depth=10, max_features=5; total time=  17.1s\n",
      "[CV] END .......................max_depth=10, max_features=7; total time=  23.2s\n",
      "[CV] END .......................max_depth=10, max_features=7; total time=  23.3s\n",
      "[CV] END .......................max_depth=10, max_features=7; total time=  23.3s\n",
      "[CV] END .......................max_depth=10, max_features=7; total time=  23.3s\n",
      "[CV] END .......................max_depth=10, max_features=7; total time=  23.3s\n",
      "[CV] END .......................max_depth=10, max_features=9; total time=  29.4s\n",
      "[CV] END .......................max_depth=10, max_features=9; total time=  29.4s\n",
      "[CV] END .......................max_depth=10, max_features=9; total time=  29.3s\n",
      "[CV] END .......................max_depth=10, max_features=9; total time=  29.3s\n",
      "[CV] END .......................max_depth=10, max_features=9; total time=  29.3s\n",
      "[CV] END .......................max_depth=15, max_features=5; total time=  25.9s\n",
      "[CV] END .......................max_depth=15, max_features=5; total time=  25.8s\n",
      "[CV] END .......................max_depth=15, max_features=5; total time=  26.1s\n",
      "[CV] END .......................max_depth=15, max_features=5; total time=  25.9s\n",
      "[CV] END .......................max_depth=15, max_features=5; total time=  25.9s\n",
      "[CV] END .......................max_depth=15, max_features=7; total time=  35.0s\n",
      "[CV] END .......................max_depth=15, max_features=7; total time=  34.9s\n",
      "[CV] END .......................max_depth=15, max_features=7; total time=  34.9s\n",
      "[CV] END .......................max_depth=15, max_features=7; total time=  35.0s\n",
      "[CV] END .......................max_depth=15, max_features=7; total time=  35.0s\n",
      "[CV] END .......................max_depth=15, max_features=9; total time=  44.0s\n",
      "[CV] END .......................max_depth=15, max_features=9; total time=  44.0s\n",
      "[CV] END .......................max_depth=15, max_features=9; total time=  43.8s\n",
      "[CV] END .......................max_depth=15, max_features=9; total time=  44.1s\n",
      "[CV] END .......................max_depth=15, max_features=9; total time=  44.0s\n",
      "[CV] END .......................max_depth=20, max_features=5; total time=  35.5s\n",
      "[CV] END .......................max_depth=20, max_features=5; total time=  35.7s\n",
      "[CV] END .......................max_depth=20, max_features=5; total time=  35.9s\n",
      "[CV] END .......................max_depth=20, max_features=5; total time=  35.8s\n",
      "[CV] END .......................max_depth=20, max_features=5; total time=  35.7s\n",
      "[CV] END .......................max_depth=20, max_features=7; total time=  47.0s\n",
      "[CV] END .......................max_depth=20, max_features=7; total time=  47.1s\n",
      "[CV] END .......................max_depth=20, max_features=7; total time=  47.1s\n",
      "[CV] END .......................max_depth=20, max_features=7; total time=  47.0s\n",
      "[CV] END .......................max_depth=20, max_features=7; total time=  47.0s\n",
      "[CV] END .......................max_depth=20, max_features=9; total time=  58.3s\n",
      "[CV] END .......................max_depth=20, max_features=9; total time=  58.1s\n",
      "[CV] END .......................max_depth=20, max_features=9; total time=  58.3s\n",
      "[CV] END .......................max_depth=20, max_features=9; total time=  58.4s\n",
      "[CV] END .......................max_depth=20, max_features=9; total time=  58.2s\n",
      "GradientBoostingRegressor(max_depth=10, max_features=9, random_state=42)\n",
      "{'max_depth': 10, 'max_features': 9}\n",
      "-717.7529302955235\n"
     ]
    }
   ],
   "source": [
    "from sklearn.ensemble import GradientBoostingRegressor\n",
    "from sklearn.model_selection import GridSearchCV\n",
    "\n",
    "gradientboost_model = GradientBoostingRegressor(random_state=42)\n",
    "\n",
    "param_grid = {\n",
    "    'max_depth': [10, 15, 20], \n",
    "    'max_features': [5, 7, 9]\n",
    "}\n",
    "\n",
    "grid_search_gb = GridSearchCV(gradientboost_model, param_grid, cv=5, scoring='neg_root_mean_squared_error', verbose=2)\n",
    "grid_search_gb.fit(X_train, y_train)\n",
    "print(grid_search_gb.best_estimator_)\n",
    "print(grid_search_gb.best_params_)\n",
    "print(grid_search_gb.best_score_)\n"
   ]
  },
  {
   "cell_type": "code",
   "execution_count": 8,
   "metadata": {},
   "outputs": [
    {
     "data": {
      "image/png": "[encoded data removed]",
      "text/plain": [
       "<Figure size 1000x600 with 1 Axes>"
      ]
     },
     "metadata": {},
     "output_type": "display_data"
    }
   ],
   "source": [
    "import matplotlib.pyplot as plt\n",
    "import numpy as np\n",
    "\n",
    "# Assume you have a trained GridSearchCV model named 'grid_search_gb' from the previous code\n",
    "\n",
    "# Extract the best fitted model from the GridSearchCV\n",
    "best_model = grid_search_gb.best_estimator_\n",
    "\n",
    "# Extract the feature importances from the best fitted model\n",
    "feature_importance = best_model.feature_importances_\n",
    "\n",
    "# Sort the feature importances in descending order\n",
    "sorted_indices = np.argsort(feature_importance)[::-1]\n",
    "\n",
    "# Extract the names of the features in the correct order\n",
    "feature_names = X_train.columns[sorted_indices]\n",
    "\n",
    "# Extract the feature importances in the correct order\n",
    "sorted_importance = feature_importance[sorted_indices]\n",
    "\n",
    "# Plot the feature importances\n",
    "plt.figure(figsize=(10, 6))\n",
    "plt.barh(range(len(feature_names)), sorted_importance, align='center')\n",
    "plt.yticks(range(len(feature_names)), feature_names)\n",
    "plt.xlabel('Feature Importance')\n",
    "plt.ylabel('Features')\n",
    "plt.title('Gradient Boosting Regressor - Feature Importance')\n",
    "plt.show()\n"
   ]
  },
  {
   "attachments": {},
   "cell_type": "markdown",
   "metadata": {},
   "source": [
    "### Gradient Boosting Model mit besten Parameter trainieren"
   ]
  },
  {
   "cell_type": "code",
   "execution_count": 9,
   "metadata": {},
   "outputs": [
    {
     "name": "stdout",
     "output_type": "stream",
     "text": [
      "Train RMSE:  699.1955934435981\n",
      "Test RMSE:  759.0378016040644\n"
     ]
    }
   ],
   "source": [
    "from sklearn.ensemble import GradientBoostingRegressor\n",
    "from sklearn.metrics import mean_squared_error\n",
    "\n",
    "# defining the gradient boosting regressor\n",
    "gb_model_use = GradientBoostingRegressor(learning_rate=0.1, max_depth=7, n_estimators=300)\n",
    "\n",
    "# training the model with the trainingdata\n",
    "gb_model_use.fit(X_train, y_train)\n",
    "\n",
    "# prediction on training data\n",
    "y_train_pred = gb_model_use.predict(X_train)\n",
    "train_rmse = np.sqrt(mean_squared_error(y_train, y_train_pred))\n",
    "print(\"Train RMSE: \", train_rmse)\n",
    "\n",
    "# prediction on test data\n",
    "y_test_pred = gb_model_use.predict(X_test)\n",
    "test_rmse = np.sqrt(mean_squared_error(y_test, y_test_pred))\n",
    "print(\"Test RMSE: \", test_rmse)"
   ]
  },
  {
   "attachments": {},
   "cell_type": "markdown",
   "metadata": {},
   "source": [
    "### Model speichern "
   ]
  },
  {
   "cell_type": "code",
   "execution_count": 13,
   "metadata": {},
   "outputs": [],
   "source": [
    "import pickle\n",
    "\n",
    "# saving model to file\n",
    "model_filename = \"gradient_boost_regression.pkl\" \n",
    "with open(model_filename, 'wb') as f:\n",
    "    pickle.dump(gb_model_use, f)"
   ]
  }
 ],
 "metadata": {
  "kernelspec": {
   "display_name": "kia",
   "language": "python",
   "name": "python3"
  },
  "language_info": {
   "codemirror_mode": {
    "name": "ipython",
    "version": 3
   },
   "file_extension": ".py",
   "mimetype": "text/x-python",
   "name": "python",
   "nbconvert_exporter": "python",
   "pygments_lexer": "ipython3",
   "version": "3.10.11"
  },
  "orig_nbformat": 4
 },
 "nbformat": 4,
 "nbformat_minor": 2
}
